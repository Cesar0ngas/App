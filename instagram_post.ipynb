{
 "cells": [
  {
   "cell_type": "code",
   "execution_count": 2,
   "metadata": {},
   "outputs": [
    {
     "name": "stdout",
     "output_type": "stream",
     "text": [
      "Mensaje entregado a instagram_posts [0]\n",
      "Mensaje entregado a instagram_posts [0]\n",
      "Mensaje entregado a instagram_posts [0]\n",
      "Mensaje entregado a instagram_posts [0]\n",
      "Mensaje entregado a instagram_posts [0]\n",
      "Mensaje entregado a instagram_posts [0]\n",
      "Mensaje entregado a instagram_posts [0]\n",
      "Mensaje entregado a instagram_posts [0]\n",
      "Mensaje entregado a instagram_posts [0]\n",
      "Mensaje entregado a instagram_posts [0]\n",
      "Mensaje entregado a instagram_posts [0]\n",
      "Mensaje entregado a instagram_posts [0]\n",
      "Mensaje entregado a instagram_posts [0]\n",
      "Mensaje entregado a instagram_posts [0]\n",
      "Mensaje entregado a instagram_posts [0]\n",
      "Mensaje entregado a instagram_posts [0]\n",
      "Mensaje entregado a instagram_posts [0]\n",
      "Mensaje entregado a instagram_posts [0]\n",
      "Mensaje entregado a instagram_posts [0]\n",
      "Mensaje entregado a instagram_posts [0]\n",
      "Mensaje entregado a instagram_posts [0]\n",
      "Mensaje entregado a instagram_posts [0]\n",
      "Mensaje entregado a instagram_posts [0]\n",
      "Mensaje entregado a instagram_posts [0]\n",
      "Mensaje entregado a instagram_posts [0]\n",
      "Mensaje entregado a instagram_posts [0]\n",
      "Mensaje entregado a instagram_posts [0]\n",
      "Mensaje entregado a instagram_posts [0]\n",
      "Mensaje entregado a instagram_posts [0]\n",
      "Datos extraídos y enviados a Kafka exitosamente\n"
     ]
    }
   ],
   "source": [
    "import requests\n",
    "import json\n",
    "from confluent_kafka import Producer\n",
    "\n",
    "# Configuración inicial del productor Kafka\n",
    "p = Producer({'bootstrap.servers': 'localhost:9092'})\n",
    "\n",
    "def delivery_report(err, msg):\n",
    "    \"\"\" Callback llamado cuando un mensaje ha sido entregado o ha fallado \"\"\"\n",
    "    if err is not None:\n",
    "        print('Error de entrega: {}'.format(err))\n",
    "    else:\n",
    "        print('Mensaje entregado a {} [{}]'.format(msg.topic(), msg.partition()))\n",
    "\n",
    "# Definir la URL y las cabeceras para la solicitud a la API\n",
    "url = \"https://instagram-scraper-api3.p.rapidapi.com/hashtag_media\"\n",
    "headers = {\n",
    "    \"X-RapidAPI-Key\": \"3762518272mshfceb0382edd152cp19469fjsn84fd29df426f\",\n",
    "    \"X-RapidAPI-Host\": \"instagram-scraper-api3.p.rapidapi.com\"\n",
    "}\n",
    "querystring = {\"hashtag\": \"anime\", \"feed_type\": \"top\"}\n",
    "\n",
    "# Realizar la solicitud a la API\n",
    "response = requests.get(url, headers=headers, params=querystring)\n",
    "\n",
    "# Verificar si la respuesta fue exitosa\n",
    "if response.status_code == 200:\n",
    "    data = response.json()\n",
    "    if 'data' in data:\n",
    "        for post in data['data']['medias']:\n",
    "            post_info = {\n",
    "                \"username\": post.get('owner', {}).get('username', 'N/A'),\n",
    "                \"likes\": post.get('like_count', 0),\n",
    "                \"comments\": post.get('comment_count', 0),\n",
    "                \"post_text\": post.get('caption', 'No caption')\n",
    "            }\n",
    "\n",
    "            # Enviar el mensaje al topic Kafka\n",
    "            p.produce('instagram_posts', key=str(post.get('owner', {}).get('id', 'unknown')), value=json.dumps(post_info), callback=delivery_report)\n",
    "        \n",
    "        # Esperar a que todos los mensajes sean entregados\n",
    "        p.flush()\n",
    "\n",
    "        print(\"Datos extraídos y enviados a Kafka exitosamente\")\n",
    "\n",
    "    else:\n",
    "        print(\"No se encontraron datos en la respuesta de la API.\")\n",
    "else:\n",
    "    print(f\"Error en la solicitud: {response.status_code}\")\n"
   ]
  }
 ],
 "metadata": {
  "kernelspec": {
   "display_name": "trends",
   "language": "python",
   "name": "python3"
  },
  "language_info": {
   "codemirror_mode": {
    "name": "ipython",
    "version": 3
   },
   "file_extension": ".py",
   "mimetype": "text/x-python",
   "name": "python",
   "nbconvert_exporter": "python",
   "pygments_lexer": "ipython3",
   "version": "3.12.6"
  }
 },
 "nbformat": 4,
 "nbformat_minor": 2
}
